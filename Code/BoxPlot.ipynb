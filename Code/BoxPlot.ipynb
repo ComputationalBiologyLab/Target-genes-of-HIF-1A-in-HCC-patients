{
  "nbformat": 4,
  "nbformat_minor": 0,
  "metadata": {
    "colab": {
      "provenance": []
    },
    "kernelspec": {
      "name": "ir",
      "display_name": "R"
    },
    "language_info": {
      "name": "R"
    }
  },
  "cells": [
    {
      "cell_type": "markdown",
      "source": [
        "##BoxPlot visualization for the interesting genes \n",
        "comparing each gene samples within the 2 condition "
      ],
      "metadata": {
        "id": "AFbN8Q3cCfaD"
      }
    },
    {
      "cell_type": "markdown",
      "source": [
        "Load libraries"
      ],
      "metadata": {
        "id": "LKQzPd39C8EH"
      }
    },
    {
      "cell_type": "code",
      "source": [
        "library(dplyr)\n",
        "library(tidyr)\n",
        "library(ggplot2)\n",
        "library(DESeq2)"
      ],
      "metadata": {
        "id": "JhRGy-IBC6rs"
      },
      "execution_count": null,
      "outputs": []
    },
    {
      "cell_type": "markdown",
      "source": [
        "select the interesting genes then,organize the data "
      ],
      "metadata": {
        "id": "Qy2cwzExDCmo"
      }
    },
    {
      "cell_type": "code",
      "source": [
        "goi= c(\"ENSG00000067225\", \"ENSG00000067057\", \"ENSG00000100644\", \"ENSG00000106633\",\n",
        "       \"ENSG00000108515\", \"ENSG00000111674\", \"ENSG00000117394\", \n",
        "       \"ENSG00000159399\", \"ENSG00000163581\", \"ENSG00000170525\")\n",
        "       \n",
        "tcounts <- t(log2((counts(dds[goi, ], normalized=FALSE, replaced=FALSE)+.5))) %>%\n",
        "  merge(colData(dds), ., by=\"row.names\") %>%\n",
        "  gather(gene, expression, (ncol(.)-length(goi)+1):ncol(.))\n",
        "tcounts %>% \n",
        "  select(Row.names, dex, fake, gene, expression) %>% \n",
        "  head %>%"
      ],
      "metadata": {
        "id": "PH4B97jOC-ge"
      },
      "execution_count": null,
      "outputs": []
    },
    {
      "cell_type": "markdown",
      "source": [
        "map the geneID to the gene name using AnnotationDbi (for human data we will use org.Hs.eg.db package"
      ],
      "metadata": {
        "id": "nGf3gz82DwgD"
      }
    },
    {
      "cell_type": "code",
      "source": [
        "tcounts$symbols <- mapIds(org.Hs.eg.db, keys= tcounts$gene, column=\"SYMBOL\", keytype=\"ENSEMBLL\")\n"
      ],
      "metadata": {
        "id": "8dkDFRQWECLd"
      },
      "execution_count": null,
      "outputs": []
    },
    {
      "cell_type": "markdown",
      "source": [
        "make the boxplot"
      ],
      "metadata": {
        "id": "JapVy6afEWEa"
      }
    },
    {
      "cell_type": "code",
      "source": [
        "\n",
        "ggplot(tcounts, aes(Pheno, expression, fill=Pheno)) + \n",
        "  geom_boxplot() + \n",
        "  facet_wrap(~gene, scales=\"free_y\") + \n",
        "  labs(x=\"Condition\", \n",
        "       y=\"Expression (log normalized counts)\", \n",
        "       fill=\"Condition\")"
      ],
      "metadata": {
        "id": "hxPYOqXTEYou"
      },
      "execution_count": null,
      "outputs": []
    }
  ]
}