{
  "nbformat": 4,
  "nbformat_minor": 0,
  "metadata": {
    "colab": {
      "provenance": []
    },
    "kernelspec": {
      "name": "python3",
      "display_name": "Python 3"
    },
    "language_info": {
      "name": "python"
    }
  },
  "cells": [
    {
      "cell_type": "markdown",
      "source": [
        "# DEQs  visualization using **Volcano** plot "
      ],
      "metadata": {
        "id": "1VZH2BkfR8Sk"
      }
    },
    {
      "cell_type": "markdown",
      "source": [
        "- Download Libraries"
      ],
      "metadata": {
        "id": "3LMpViWXSN8Q"
      }
    },
    {
      "cell_type": "code",
      "source": [
        "if (!requireNamespace('BiocManager', quietly = TRUE))\n",
        "  install.packages('BiocManager')\n",
        "\n",
        "BiocManager::install('EnhancedVolcano')\n",
        "\n",
        "\n",
        "if (!require(\"BiocManager\", quietly = TRUE))\n",
        "  install.packages(\"BiocManager\")\n",
        "\n",
        "BiocManager::install(\"org.Hs.eg.db\")"
      ],
      "metadata": {
        "id": "dTCtE0uGSUj1"
      },
      "execution_count": null,
      "outputs": []
    },
    {
      "cell_type": "markdown",
      "source": [
        "- Maping the gene ID to thier name using org.hs.eg.db (only for human data)"
      ],
      "metadata": {
        "id": "YZDkfutIS5bC"
      }
    },
    {
      "cell_type": "code",
      "source": [
        "library(org.Hs.eg.db)\n",
        "res$symbols <- mapIds(org.Hs.eg.db, keys = res$X,\n",
        "                      column = c('SYMBOL'), keytype = \"ENSEMBL\")"
      ],
      "metadata": {
        "id": "jSC1qAK7SZiW"
      },
      "execution_count": null,
      "outputs": []
    },
    {
      "cell_type": "markdown",
      "source": [
        "\n",
        "\n",
        "*   Plot the Volcano Plot\n",
        "\n",
        "\n",
        "\n"
      ],
      "metadata": {
        "id": "55q9FumdTCRK"
      }
    },
    {
      "cell_type": "code",
      "source": [
        "EnhancedVolcano(res,\n",
        "                lab = res$symbols,\n",
        "                x = 'log2FoldChange',\n",
        "                y = 'padj',\n",
        "                selectLab = c(\"PKM\",\"HIF1A\",\"HK2\",\"SLC2A1\",\"ENO2\",\"GCK\",\"PFKFB3\",\"PFKP\",\"SLC2A2\",\"ENO3\"),\n",
        "                xlab = bquote(~Log[2]~ 'fold change'),\n",
        "                ylab= bquote(~-Log[10]~ 'padj-value'),\n",
        "                pCutoff = 0.01,\n",
        "                FCcutoff = 2.0,\n",
        "                pointSize = 4.0,\n",
        "                labSize = 3.5,\n",
        "                labCol = 'black',\n",
        "                labFace = 'bold',\n",
        "                boxedLabels = TRUE,\n",
        "                \n",
        "                colAlpha = 4/5,\n",
        "                legendPosition = 'right',\n",
        "                legendLabSize = 14,\n",
        "                legendIconSize = 4.0,\n",
        "                legendLabels=c('NS','|Log2 FC|>2','padj-value<0.01',\n",
        "                               'padj-value<0.01 & |Log2 FC|>2'),\n",
        "                caption = bquote( \"NS: Non-significant, padj-value cutoff=0.01, Log2FoldChange cutoff=2\"),               \n",
        "                drawConnectors = TRUE,\n",
        "                widthConnectors = 1.0,\n",
        "                colConnectors = 'black')"
      ],
      "metadata": {
        "id": "EHeWtoaTTShK"
      },
      "execution_count": null,
      "outputs": []
    }
  ]
}
