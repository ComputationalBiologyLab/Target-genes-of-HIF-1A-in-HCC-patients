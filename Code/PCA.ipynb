{
  "nbformat": 4,
  "nbformat_minor": 0,
  "metadata": {
    "colab": {
      "provenance": []
    },
    "kernelspec": {
      "name": "python3",
      "display_name": "Python 3"
    },
    "language_info": {
      "name": "python"
    }
  },
  "cells": [
    {
      "cell_type": "markdown",
      "source": [
        "# **Principal component analysis (PCA) Pipeline**\n"
      ],
      "metadata": {
        "id": "pN92OsOBWkG7"
      }
    },
    {
      "cell_type": "markdown",
      "source": [
        "loading libraries and data preparation"
      ],
      "metadata": {
        "id": "r4GI1lLgW86G"
      }
    },
    {
      "cell_type": "code",
      "execution_count": null,
      "metadata": {
        "id": "rj3ymvOEWjMf"
      },
      "outputs": [],
      "source": [
        "# Load necessary libraries\n",
        "library(DESeq2)\n",
        "library(ggplot2)\n",
        "library(data.table)\n",
        "# Assuming `dds` is your existing DESeq2 object\n",
        "# Load the data\n",
        "clinical_data <- fread(\"cleaned_clinical_data.csv\")\n",
        "\n",
        "# Step 1: Ensure that the clinical data aligns with the sample names in the DESeq2 object\n",
        "# Reorder clinical_data to match the column names of count data in dds\n",
        "clinical_data_ordered <- clinical_data[match(colnames(dds), clinical_data$case_submitter_id),]\n",
        "\n",
        "# Step 2: Check for any missing or unmatched samples\n",
        "if(any(is.na(clinical_data_ordered$case_submitter_id))) {\n",
        "  stop(\"Some samples in the count data do not match the 'case_submitter_id' in clinical data.\")\n",
        "}\n",
        "\n",
        "# Step 3: Add the new metadata columns to the DESeq2 object\n",
        "colData(dds)$age_at_index <- clinical_data_ordered$age_at_index\n",
        "colData(dds)$gender <- clinical_data_ordered$gender\n",
        "colData(dds)$ethnicity <- clinical_data_ordered$ethnicity\n"
      ]
    },
    {
      "cell_type": "markdown",
      "source": [
        "Data transformation and PCA Calculation"
      ],
      "metadata": {
        "id": "O5mvsAADXJ2x"
      }
    },
    {
      "cell_type": "code",
      "source": [
        "# Step 4: Transform the data using vst (or rlog if preferred)\n",
        "vst_data <- vst(dds, blind = TRUE)\n",
        "\n",
        "# Extract the assay data from the transformed DESeq2 object for PCA\n",
        "pcaData <- plotPCA(vst_data, intgroup = c(\"Condition\", \"age_at_index\", \"gender\", \"ethnicity\", \"race\"), returnData = TRUE)\n",
        "\n",
        "# Calculate percentage of variance explained by PC1 and PC2\n",
        "percentVar <- round(100 * attr(pca_data, \"percentVar\"))\n",
        "# Convert 'Age' to categorical with two groups: \"Above 60\" and \"Under 60\"\n",
        "pcaData$AgeGroup <- ifelse(pcaData$Age > 60, \"Above 60\", \"Under 60\")\n",
        "\n",
        "# Create a shape variable for 'Condition', excluding NA values\n",
        "pcaData <- pcaData[!is.na(pcaData$Condition), ]  # Remove NA values for Condition\n",
        "pcaData$Shape <- ifelse(pcaData$Condition == \"N_A\", 16, 17)  # 16 for circles, 17 for triangles\n",
        "\n",
        "# Ensure that 'Shape' and other grouping variables are factors for ggplot\n",
        "pcaData$Shape <- factor(pcaData$Shape, levels = c(16, 17), labels = c(\"N_A\", \"H_E\"))\n",
        "pcaData$Gender <- factor(pcaData$Gender)\n",
        "pcaData$Ethnicity <- factor(pcaData$Ethnicity)\n",
        "pcaData$Race <- factor(pcaData$Race)\n",
        "pcaData$AgeGroup <- factor(pcaData$AgeGroup)"
      ],
      "metadata": {
        "id": "eNWh2c2FW2ZN"
      },
      "execution_count": null,
      "outputs": []
    },
    {
      "cell_type": "markdown",
      "source": [
        "**Plotting**"
      ],
      "metadata": {
        "id": "Qz4145ThXw1t"
      }
    },
    {
      "cell_type": "code",
      "source": [
        "# Update color palettes based on your specific request\n",
        "age_colors <- c(\"#F8766D\", \"#00BFC4\")  # Two levels: Above 60, Under 60\n",
        "gender_colors <- c(\"#F8766D\", \"#00BFC4\")  # Two levels: Female, Male\n",
        "ethnicity_colors <- c(\"#F8766D\", \"#00BFC4\", \"gray50\", \"green\")  # Ethnicity levels\n",
        "race_colors <- c(\"green\", \"#F8766D\", \"gray50\", \"orange\", \"#00BFC4\")  # Race levels\n",
        "\n",
        "# Wrap long legend titles to prevent overlap\n",
        "levels(pcaData$Race) <- str_wrap(levels(pcaData$Race), width = 15)  # Increase wrap width to 15 characters per line\n",
        "\n",
        "# Function to extract legends from ggplot\n",
        "get_legend <- function(my_plot) {\n",
        "  tmp <- ggplotGrob(my_plot)\n",
        "  leg <- which(sapply(tmp$grobs, function(x) x$name) == \"guide-box\")\n",
        "  legend <- tmp$grobs[[leg]]\n",
        "  return(legend)\n",
        "}\n",
        "\n",
        "# Create the PCA plot colored by AgeGroup without shape legend\n",
        "p1 <- ggplot(pcaData, aes(x = PC1, y = PC2, color = AgeGroup)) +\n",
        "  geom_point(aes(shape = Shape), size = 3) +\n",
        "  scale_color_manual(values = age_colors) +\n",
        "  scale_shape_manual(values = c(16, 17), guide = \"none\") +  # Remove shape legend\n",
        "  coord_fixed() +  # Fix aspect ratio to ensure square plots\n",
        "  theme_minimal(base_size = 15) +\n",
        "  theme(panel.background = element_rect(fill = \"gray85\"),\n",
        "        legend.position = \"right\",\n",
        "        legend.margin = margin(5, 5, 5, 5)) +  # Adjust legend margin\n",
        "  labs(title = \"a\", x = \"PC1: 20% variance\", y = \"PC2: 9% variance\")\n",
        "\n",
        "# Create the PCA plot colored by Gender without shape legend\n",
        "p2 <- ggplot(pcaData, aes(x = PC1, y = PC2, color = Gender)) +\n",
        "  geom_point(aes(shape = Shape), size = 3) +\n",
        "  scale_color_manual(values = gender_colors) +\n",
        "  scale_shape_manual(values = c(16, 17), guide = \"none\") +  # Remove shape legend\n",
        "  coord_fixed() +  # Fix aspect ratio to ensure square plots\n",
        "  theme_minimal(base_size = 15) +\n",
        "  theme(panel.background = element_rect(fill = \"gray85\"),\n",
        "        legend.position = \"right\",\n",
        "        legend.margin = margin(5, 5, 5, 5)) +  # Adjust legend margin\n",
        "  labs(title = \"b\", x = \"PC1: 20% variance\", y = \"PC2: 9% variance\")\n",
        "\n",
        "# Create the PCA plot colored by Ethnicity without shape legend\n",
        "p3 <- ggplot(pcaData, aes(x = PC1, y = PC2, color = Ethnicity)) +\n",
        "  geom_point(aes(shape = Shape), size = 3) +\n",
        "  scale_color_manual(values = ethnicity_colors) +  # Ensure enough colors for all levels\n",
        "  scale_shape_manual(values = c(16, 17), guide = \"none\") +  # Remove shape legend\n",
        "  coord_fixed() +  # Fix aspect ratio to ensure square plots\n",
        "  theme_minimal(base_size = 15) +\n",
        "  theme(panel.background = element_rect(fill = \"gray85\"),\n",
        "        legend.position = \"right\",\n",
        "        legend.margin = margin(5, 5, 5, 5)) +  # Adjust legend margin\n",
        "  labs(title = \"c\", x = \"PC1: 20% variance\", y = \"PC2: 9% variance\")\n",
        "\n",
        "# Create the PCA plot colored by Race without shape legend\n",
        "p4 <- ggplot(pcaData, aes(x = PC1, y = PC2, color = Race)) +\n",
        "  geom_point(aes(shape = Shape), size = 3) +\n",
        "  scale_color_manual(values = race_colors) +  # Ensure enough colors for all levels\n",
        "  scale_shape_manual(values = c(16, 17), guide = \"none\") +  # Remove shape legend\n",
        "  coord_fixed() +  # Fix aspect ratio to ensure square plots\n",
        "  theme_minimal(base_size = 15) +\n",
        "  theme(panel.background = element_rect(fill = \"gray85\"),\n",
        "        legend.position = \"right\",\n",
        "        legend.margin = margin(5, 5, 5, 5),\n",
        "        legend.key.height = unit(1.8, \"lines\")) +  # Increase space between legend items\n",
        "  labs(title = \"d\", x = \"PC1: 20% variance\", y = \"PC2: 9% variance\")\n",
        "\n",
        "# Extract legends for color only\n",
        "legend1 <- get_legend(p1)\n",
        "legend2 <- get_legend(p2)\n",
        "legend3 <- get_legend(p3)\n",
        "legend4 <- get_legend(p4)\n",
        "\n",
        "# Combine plots and legends using cowplot\n",
        "combined_plot <- plot_grid(\n",
        "  plot_grid(p1 + theme(legend.position = \"none\"), legend1, ncol = 2, rel_widths = c(3, 1)),\n",
        "  plot_grid(p2 + theme(legend.position = \"none\"), legend2, ncol = 2, rel_widths = c(3, 1)),\n",
        "  plot_grid(p3 + theme(legend.position = \"none\"), legend3, ncol = 2, rel_widths = c(3, 1)),\n",
        "  plot_grid(p4 + theme(legend.position = \"none\"), legend4, ncol = 2, rel_widths = c(3, 1)),\n",
        "  ncol = 2\n",
        ")\n",
        "\n",
        "# Create a separate plot for the shape legend only\n",
        "shape_legend_plot <- ggplot(pcaData, aes(x = PC1, y = PC2, shape = Shape)) +\n",
        "  geom_point(size = 3) +\n",
        "  scale_shape_manual(values = c(16, 17),\n",
        "                     labels = c(\"N_A\", \"H_E\"),\n",
        "                     name = \"Condition\") +  # Correct legend title\n",
        "  theme_void() +  # No axis or background\n",
        "  theme(legend.position = \"bottom\",\n",
        "        legend.box.just = \"center\",\n",
        "        legend.margin = margin(t = 0, unit = 'cm'),\n",
        "        legend.text = element_text(size = 14),  # Increase font size for legend text\n",
        "        legend.title = element_text(size = 16, face = \"bold\")) +  # Increase font size for legend title\n",
        "  guides(shape = guide_legend(nrow = 1, byrow = TRUE))\n",
        "\n",
        "# Extract the shape legend\n",
        "shape_legend_grob <- get_legend(shape_legend_plot)\n",
        "\n",
        "# Combine all plots with the combined shape legend at the bottom\n",
        "final_plot <- plot_grid(\n",
        "  combined_plot,\n",
        "  shape_legend_grob,  # Add the shape legend at the bottom\n",
        "  ncol = 1,\n",
        "  rel_heights = c(4, 0.3)  # Adjust heights to allow space for the legend\n",
        ")\n",
        "\n",
        "# Display the final plot with the enlarged shape legend at the bottom\n",
        "final_plot\n",
        "\n"
      ],
      "metadata": {
        "id": "XHdTCAIFXOgE"
      },
      "execution_count": null,
      "outputs": []
    }
  ]
}