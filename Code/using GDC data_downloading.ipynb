{
  "nbformat": 4,
  "nbformat_minor": 0,
  "metadata": {
    "colab": {
      "provenance": []
    },
    "kernelspec": {
      "name": "ir",
      "display_name": "R"
    },
    "language_info": {
      "name": "R"
    }
  },
  "cells": [
    {
      "cell_type": "markdown",
      "source": [
        "# Differential expression analysis for **RNAseq data**"
      ],
      "metadata": {
        "id": "bIwW8zpyIqLD"
      }
    },
    {
      "cell_type": "markdown",
      "source": [
        "#Download and retrieve data from **TCGA**"
      ],
      "metadata": {
        "id": "KKs6GEXhJPY9"
      }
    },
    {
      "cell_type": "markdown",
      "source": [
        "##load used library (**GDC**)"
      ],
      "metadata": {
        "id": "01gZYLe9JXzp"
      }
    },
    {
      "cell_type": "code",
      "source": [
        "library(\"TCGAbiolinks\")\n",
        "library(\"limma\")\n",
        "library(\"edgeR\")\n",
        "library(\"glmnet\")\n",
        "library(\"factoextra\")\n",
        "library(\"FactoMineR\")\n",
        "library(\"caret\")\n",
        "library(\"SummarizedExperiment\")\n",
        "library(\"gplots\")\n",
        "library(\"survival\")\n",
        "library(\"survminer\")\n",
        "library(\"RColorBrewer\")\n",
        "library(\"gProfileR\")\n",
        "library(\"genefilter\")"
      ],
      "metadata": {
        "id": "ZXU1_2VmJocB"
      },
      "execution_count": null,
      "outputs": []
    },
    {
      "cell_type": "markdown",
      "source": [
        "##TCGA data"
      ],
      "metadata": {
        "id": "EOym8qc8KG61"
      }
    },
    {
      "cell_type": "code",
      "source": [
        "GDCprojects = getGDCprojects()\n",
        "\n",
        "head(GDCprojects[c(\"project_id\", \"name\")])\n",
        "\n",
        "TCGAbiolinks:::getProjectSummary(\"TCGA-LIHC\")"
      ],
      "metadata": {
        "id": "M8L8J5UPKNlH"
      },
      "execution_count": null,
      "outputs": []
    },
    {
      "cell_type": "code",
      "source": [
        "query_TCGA = GDCquery(\n",
        "  project = \"TCGA-LIHC\",\n",
        "  data.category = \"Transcriptome Profiling\", # parameter enforced by GDCquery\n",
        "  experimental.strategy = \"RNA-Seq\",\n",
        "  workflow.type = \"HTSeq - Counts\")"
      ],
      "metadata": {
        "id": "5UoUMSMbKTif"
      },
      "execution_count": null,
      "outputs": []
    },
    {
      "cell_type": "code",
      "source": [
        "#visualize the results in more readblr way\n",
        "lihc_res = getResults(query_TCGA) # make results as table\n",
        "# head(lihc_res) # data of the first 6 patients.\n",
        "colnames(lihc_res) # columns present in the table"
      ],
      "metadata": {
        "id": "RmE0I06nKaBh"
      },
      "execution_count": null,
      "outputs": []
    },
    {
      "cell_type": "code",
      "source": [
        "summary(factor(lihc_res$sample_type)) # summary of distinct tissues types present in this study"
      ],
      "metadata": {
        "id": "2YCxpiPdKn3e"
      },
      "execution_count": null,
      "outputs": []
    },
    {
      "cell_type": "code",
      "source": [
        "query_TCGA = GDCquery(\n",
        "  project = \"TCGA-LIHC\",\n",
        "  data.category = \"Transcriptome Profiling\", # parameter enforced by GDCquery\n",
        "  experimental.strategy = \"RNA-Seq\",\n",
        "  workflow.type = \"HTSeq - Counts\",\n",
        "  sample.type = c(\"Primary Tumor\")"
      ],
      "metadata": {
        "id": "LnnRe_BdKuPv"
      },
      "execution_count": null,
      "outputs": []
    },
    {
      "cell_type": "code",
      "source": [
        "GDCdownload(query = query_TCGA)\n"
      ],
      "metadata": {
        "id": "HB6az0l0Kxru"
      },
      "execution_count": null,
      "outputs": []
    },
    {
      "cell_type": "code",
      "source": [
        "tcga_data = GDCprepare(query_TCGA)"
      ],
      "metadata": {
        "id": "q8BDbTyuK4C_"
      },
      "execution_count": null,
      "outputs": []
    },
    {
      "cell_type": "code",
      "source": [
        "#check object size \n",
        "dim(tcga_data)"
      ],
      "metadata": {
        "id": "sqVgShgfK7lL"
      },
      "execution_count": null,
      "outputs": []
    },
    {
      "cell_type": "code",
      "source": [
        "# view metadata\n",
        "colnames(colData(tcga_data))\n"
      ],
      "metadata": {
        "id": "0C0N-iu9LRrO"
      },
      "execution_count": null,
      "outputs": []
    },
    {
      "cell_type": "code",
      "source": [
        "table(tcga_data@colData$vital_status)"
      ],
      "metadata": {
        "id": "vUdIP7bSLWLA"
      },
      "execution_count": null,
      "outputs": []
    },
    {
      "cell_type": "code",
      "source": [
        "#sample type\n",
        "table(tcga_data@colData$definition)"
      ],
      "metadata": {
        "id": "XkIedVtILadl"
      },
      "execution_count": null,
      "outputs": []
    },
    {
      "cell_type": "code",
      "source": [
        "table(tcga_data@colData$gender)"
      ],
      "metadata": {
        "id": "-5mL5MtyLdFT"
      },
      "execution_count": null,
      "outputs": []
    },
    {
      "cell_type": "code",
      "source": [
        "dim(assay(tcga_data))     # gene expression matrices."
      ],
      "metadata": {
        "id": "tNnAwHWqLlqB"
      },
      "execution_count": null,
      "outputs": []
    },
    {
      "cell_type": "code",
      "source": [
        "head(assay(tcga_data)[,1:10]) # expression of first 6 genes and first 10 samples"
      ],
      "metadata": {
        "id": "wer187s6Lo8I"
      },
      "execution_count": null,
      "outputs": []
    },
    {
      "cell_type": "code",
      "source": [
        "# Save the data as a file\n",
        "\n",
        "saveRDS(object = tcga_data,\n",
        "        file = \"tcga_data.RDS\",\n",
        "        compress = FALSE)"
      ],
      "metadata": {
        "id": "X7dtuhg6LsAS"
      },
      "execution_count": null,
      "outputs": []
    },
    {
      "cell_type": "code",
      "source": [
        "# while loading the data again\n",
        "tcga_data = readRDS(file = \"tcga_data.RDS\")"
      ],
      "metadata": {
        "id": "-exuMcCILzHC"
      },
      "execution_count": null,
      "outputs": []
    },
    {
      "cell_type": "code",
      "source": [],
      "metadata": {
        "id": "_Y1XJZRSLsHv"
      },
      "execution_count": null,
      "outputs": []
    }
  ]
}
