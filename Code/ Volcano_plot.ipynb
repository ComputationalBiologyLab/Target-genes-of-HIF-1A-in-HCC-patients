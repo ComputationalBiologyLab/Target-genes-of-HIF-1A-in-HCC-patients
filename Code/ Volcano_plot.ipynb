{
  "nbformat": 4,
  "nbformat_minor": 0,
  "metadata": {
    "colab": {
      "provenance": []
    },
    "kernelspec": {
      "name": "python3",
      "display_name": "Python 3"
    },
    "language_info": {
      "name": "python"
    }
  },
  "cells": [
    {
      "cell_type": "markdown",
      "source": [
        "# DEQs  visualization using **Volcano** plot "
      ],
      "metadata": {
        "id": "1VZH2BkfR8Sk"
      }
    },
    {
      "cell_type": "markdown",
      "source": [
        "- Download libraries"
      ],
      "metadata": {
        "id": "3LMpViWXSN8Q"
      }
    },
    {
      "cell_type": "code",
      "source": [
        "if (!requireNamespace('BiocManager', quietly = TRUE))\n",
        "  install.packages('BiocManager')\n",
        "\n",
        "BiocManager::install('EnhancedVolcano')\n",
        "\n",
        "\n",
        "if (!require(\"BiocManager\", quietly = TRUE))\n",
        "  install.packages(\"BiocManager\")\n",
        "\n",
        "BiocManager::install(\"org.Hs.eg.db\")"
      ],
      "metadata": {
        "id": "dTCtE0uGSUj1"
      },
      "execution_count": null,
      "outputs": []
    },
    {
      "cell_type": "markdown",
      "source": [
        "- maping the gene ID to thier name using org.hs.eg.db (only for human data)"
      ],
      "metadata": {
        "id": "YZDkfutIS5bC"
      }
    },
    {
      "cell_type": "code",
      "source": [
        "\n",
        "library(org.Hs.eg.db)\n",
        "res$symbols <- mapIds(org.Hs.eg.db, keys = rownames(res.df),\n",
        "                  column = c('SYMBOL'), keytype = \" ENSMBL\")"
      ],
      "metadata": {
        "id": "jSC1qAK7SZiW"
      },
      "execution_count": null,
      "outputs": []
    },
    {
      "cell_type": "markdown",
      "source": [
        "select the 14 interesting genes"
      ],
      "metadata": {
        "id": "1sKWu9Y1S8OS"
      }
    },
    {
      "cell_type": "code",
      "source": [
        "selected= c(\"PKM\",\"IL6\",\"HIF1A\",\"HK2\",\"SLC2A1\",\"GPD1\",\"ENO2\",\"GCK\",\"PFKFB3\",\"PFKP\",\"SLC2A2\",\"GLS2\",\"CAMK2B\",\"ENO3\")"
      ],
      "metadata": {
        "id": "DVPzqQ_hSxp6"
      },
      "execution_count": null,
      "outputs": []
    },
    {
      "cell_type": "markdown",
      "source": [
        "-plot the volcano plot"
      ],
      "metadata": {
        "id": "55q9FumdTCRK"
      }
    },
    {
      "cell_type": "code",
      "source": [
        "EnhancedVolcano(res.df,\n",
        "                lab = res.df$symbol,\n",
        "                x = 'log2FoldChange',\n",
        "                y = 'pvalue',\n",
        "                pCutoff = 0.01,\n",
        "                FCcutoff = 2,\n",
        "                cutoffLineType = 'twodash',\n",
        "                cutoffLineWidth = 0.8,\n",
        "                pointSize = 4.0,\n",
        "                labSize = 6.0,\n",
        "                colAlpha = 1,\n",
        "                legendLabels=c('Not sig.','Log (base 2) FC','p-value',\n",
        "                               'p-value & Log (base 2) FC'),\n",
        "                legendPosition = 'right',\n",
        "                legendLabSize = 16,\n",
        "                legendIconSize = 5.0)"
      ],
      "metadata": {
        "id": "EHeWtoaTTShK"
      },
      "execution_count": null,
      "outputs": []
    }
  ]
}
