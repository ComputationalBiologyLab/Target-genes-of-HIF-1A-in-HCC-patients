{
  "nbformat": 4,
  "nbformat_minor": 0,
  "metadata": {
    "colab": {
      "provenance": []
    },
    "kernelspec": {
      "name": "python3",
      "display_name": "Python 3"
    },
    "language_info": {
      "name": "python"
    }
  },
  "cells": [
    {
      "cell_type": "markdown",
      "source": [
        "# **Survival Analysis Pipline using Kaplain Mier and Logrank test**"
      ],
      "metadata": {
        "id": "B-7O2sCRVhw4"
      }
    },
    {
      "cell_type": "markdown",
      "source": [
        "Library and data preparation"
      ],
      "metadata": {
        "id": "s2n5jCMaVdqN"
      }
    },
    {
      "cell_type": "code",
      "source": [
        "# Load necessary libraries\n",
        "library(survival)\n",
        "library(ggplot2)\n",
        "library(survminer)\n",
        "library(cowplot)\n",
        "\n",
        "# Load the merged data file\n",
        "file_path <- 'combined_data.csv'\n",
        "data <- read.csv(file_path)"
      ],
      "metadata": {
        "id": "5fVcDwWBVqJJ"
      },
      "execution_count": null,
      "outputs": []
    },
    {
      "cell_type": "markdown",
      "source": [
        "Define genes of interest"
      ],
      "metadata": {
        "id": "qRHkyJH8VsYl"
      }
    },
    {
      "cell_type": "code",
      "source": [
        "\n",
        "# Define the genes of interest in the desired order\n",
        "genes_of_interest <- c('ENO2', 'ENO3', 'GCK', 'HIF1A', 'HK2', 'PFKFB3', 'PFKP', 'PKM', 'SLC2A1', 'SLC2A2')\n"
      ],
      "metadata": {
        "id": "f18ZN3KZVu9J"
      },
      "execution_count": null,
      "outputs": []
    },
    {
      "cell_type": "markdown",
      "source": [
        "Handeling the time to event and the event"
      ],
      "metadata": {
        "id": "LR4V39vVVyWE"
      }
    },
    {
      "cell_type": "code",
      "source": [
        "\n",
        "# Convert 'days_to_last_follow_up' and 'days_to_death' to numeric, coercing errors to NA\n",
        "data$days_to_last_follow_up <- as.numeric(as.character(data$days_to_last_follow_up))\n",
        "data$days_to_death <- as.numeric(as.character(data$days_to_death))\n",
        "\n",
        "# Create a time-to-event variable based on the patient's vital status\n",
        "data$time_to_event <- ifelse(!is.na(data$days_to_death), data$days_to_death, data$days_to_last_follow_up)\n",
        "\n",
        "# Create an event variable where 1 indicates death and 0 indicates censored (alive)\n",
        "data$event <- ifelse(!is.na(data$days_to_death), 1, 0)\n",
        "\n",
        "# Ensure 'Condition' is a factor with the correct levels\n",
        "data$HIF1A <- factor(data$HIF1A, levels = c(\"H_E\", \"N_A\"))\n",
        "\n",
        "# Remove rows with NA values in 'time_to_event' or 'event'\n",
        "data <- na.omit(data[, c('time_to_event', 'event', genes_of_interest, 'HIF1A')])\n"
      ],
      "metadata": {
        "id": "j8KxkJccV4pc"
      },
      "execution_count": null,
      "outputs": []
    },
    {
      "cell_type": "markdown",
      "source": [
        "**Plotting**"
      ],
      "metadata": {
        "id": "PXXde2SAV6Za"
      }
    },
    {
      "cell_type": "code",
      "execution_count": null,
      "metadata": {
        "id": "NzI9-ZkL-XoT"
      },
      "outputs": [],
      "source": [
        "\n",
        "# List to store ggsurvplot objects\n",
        "plots <- list()\n",
        "\n",
        "# Subplot labels\n",
        "subplot_labels <- letters[1:length(genes_of_interest)]\n",
        "\n",
        "# Loop over each gene of interest\n",
        "for (i in seq_along(genes_of_interest)) {\n",
        "  gene <- genes_of_interest[i]\n",
        "\n",
        "  # Determine if the gene is HIF1A to handle the Condition grouping separately\n",
        "  if (gene == 'HIF1A') {\n",
        "    # Reverse the levels of Condition for HIF1A to reverse the color mapping\n",
        "    data$HIF1A <- factor(data$HIF1A, levels = c(\"N_A\", \"H_E\"))\n",
        "\n",
        "    # Create a survival object for HIF1A grouped by Condition\n",
        "    surv_object <- Surv(time = data$time_to_event, event = data$event)\n",
        "    fit <- survfit(surv_object ~ HIF1A, data = data)\n",
        "\n",
        "    # Plot using ggsurvplot with reversed factor levels and colors for HIF1A\n",
        "    g <- ggsurvplot(\n",
        "      fit,\n",
        "      data = data,\n",
        "      pval = TRUE,\n",
        "      conf.int = FALSE,  # Remove confidence interval shading\n",
        "      risk.table = FALSE,  # Remove the risk table\n",
        "      legend.title = \"Condition\",  # Set legend title for HIF1A\n",
        "      legend.labs = c(\"N_A: Not Altered\", \"H_E: Highly Expressed\"),\n",
        "      ggtheme = theme_minimal() + theme(panel.background = element_rect(fill = \"gray90\")),  # Keep the legend for HIF1A\n",
        "      title = NULL,  # Remove individual plot titles\n",
        "      palette = c(\"#00BFC4\", \"#F8766D\"),  # Reversed colors: Blue for H_E and Pink for N_A\n",
        "      ylab = ifelse(i == 1, \"Survival Probability\", \"\")  # Set y-axis label only for the first plot\n",
        "    ) +\n",
        "      labs(tag = subplot_labels[i])  # Add subplot labels\n",
        "\n",
        "    # Reset the levels for further plots\n",
        "    data$HIF1A <- factor(data$HIF1A, levels = c(\"H_E\", \"N_A\"))\n",
        "\n",
        "  } else {\n",
        "    # Calculate the median expression level for the gene\n",
        "    median_expression <- median(data[[gene]], na.rm = TRUE)\n",
        "\n",
        "    # Create a new column to classify samples as 'high' or 'low' expression based on the median\n",
        "    data[[paste0(gene, '_expression_group')]] <- ifelse(data[[gene]] >= median_expression, 'High Expression', 'Low Expression')\n",
        "\n",
        "    # Create a survival object for other genes grouped by expression levels\n",
        "    surv_object <- Surv(time = data$time_to_event, event = data$event)\n",
        "    fit <- survfit(surv_object ~ data[[paste0(gene, '_expression_group')]], data = data)\n",
        "\n",
        "    # Use consistent legend labels for non-HIF1A genes\n",
        "    legend_labels <- c(\"High Expression\", \"Low Expression\")\n",
        "\n",
        "    # Plot using ggsurvplot without confidence interval shading, risk table, and legend\n",
        "    g <- ggsurvplot(\n",
        "      fit,\n",
        "      data = data,\n",
        "      pval = TRUE,\n",
        "      conf.int = FALSE,  # Remove confidence interval shading\n",
        "      risk.table = FALSE,  # Remove the risk table\n",
        "      legend.title = gene,\n",
        "      legend.labs = legend_labels,  # Adjust labels for all groups\n",
        "      palette = c(\"#F8766D\", \"#00BFC4\"),  # Default colors for consistency\n",
        "      ggtheme = theme_minimal() + theme(panel.background = element_rect(fill = \"gray90\"), legend.position = \"none\"),  # Remove legend\n",
        "      title = NULL,  # Remove individual plot titles\n",
        "      ylab = ifelse(i == 1, \"Survival Probability\", \"\")  # Set y-axis label only for the first plot\n",
        "    ) +\n",
        "      labs(tag = subplot_labels[i])  # Add subplot labels\n",
        "  }\n",
        "\n",
        "  # Store the full ggsurvplot object in the list\n",
        "  plots[[gene]] <- g  # Store the entire ggsurvplot object\n",
        "}\n",
        "\n",
        "# Combine all plots into one, arranged in the desired order\n",
        "combined_plot <- arrange_ggsurvplots(plots, ncol = 3, nrow = 4, print = TRUE) # Ensure all plots are displayed properly\n",
        "\n",
        "# Save the combined plot to a file\n",
        "ggsave(filename = 'Combined_Kaplan_Meier_Plots_with_HIF1A_ordered.png', plot = combined_plot, width = 15, height = 10)\n",
        "\n",
        "print(\"All Kaplan-Meier survival analyses completed successfully and saved in a single plot with the correct legend setup.\")\n"
      ]
    }
  ]
}