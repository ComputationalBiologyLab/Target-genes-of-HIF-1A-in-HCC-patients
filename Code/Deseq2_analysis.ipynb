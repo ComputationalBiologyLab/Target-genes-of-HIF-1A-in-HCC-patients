{
  "nbformat": 4,
  "nbformat_minor": 0,
  "metadata": {
    "colab": {
      "provenance": []
    },
    "kernelspec": {
      "name": "python3",
      "display_name": "Python 3"
    },
    "language_info": {
      "name": "python"
    }
  },
  "cells": [
    {
      "cell_type": "markdown",
      "source": [
        "## Gene differential expression analysis pipline for **RNAseq** data using **Deseq2** package"
      ],
      "metadata": {
        "id": "eUyFYPleMQCa"
      }
    },
    {
      "cell_type": "markdown",
      "source": [
        "#Load Library"
      ],
      "metadata": {
        "id": "6vbg8G0ZNPwP"
      }
    },
    {
      "cell_type": "code",
      "source": [
        "install.package(\"deseq2\")\n",
        "library(\"deseq2\")"
      ],
      "metadata": {
        "id": "A9h1qMwENZN8"
      },
      "execution_count": null,
      "outputs": []
    },
    {
      "cell_type": "markdown",
      "source": [
        "#Data Loading and Preprocessing"
      ],
      "metadata": {
        "id": "e_oaoNSYNx05"
      }
    },
    {
      "cell_type": "code",
      "source": [
        "#loading the gene expression data \n",
        "data = as.matrix(read.csv(\"data/Gene_counts.csv\", row.names=1))\n",
        "#loading the phenotype data \n",
        "pheno = read.csv(\"LIHC/phenotype1.csv\", row.names=1)\n",
        "\n",
        "table(pheno$Pheno)\n",
        "\n"
      ],
      "metadata": {
        "id": "Aeqi8cqvNf_e"
      },
      "execution_count": null,
      "outputs": []
    },
    {
      "cell_type": "code",
      "source": [
        "#explore the data.\n",
        "dim(data)\n",
        "\n",
        "#explore the data distribution using the histogram plot\n",
        "hist(data, col = \"orange\", main=\"Histogram\", breaks = 100)\n",
        "\n",
        "#scaling the data using log2\n",
        "hist(log2(data+1), col = \"orange\", main=\"Histogram\")\n",
        "\n",
        "\n"
      ],
      "metadata": {
        "id": "29Founb_N9AA"
      },
      "execution_count": null,
      "outputs": []
    },
    {
      "cell_type": "code",
      "source": [
        "#save the gene names\n",
        "genes=row.names(data)\n",
        "#convert the data values to integers\n",
        "data=apply(data,2,as.integer)\n",
        "#view the data\n",
        "head(data)\n",
        "#rename the rows of the data\n",
        "row.names(data)=genes\n"
      ],
      "metadata": {
        "id": "cumUMl50OH5m"
      },
      "execution_count": null,
      "outputs": []
    },
    {
      "cell_type": "markdown",
      "source": [
        "#Gene Differential Expression Analysis "
      ],
      "metadata": {
        "id": "RE9MLSIXOMZt"
      }
    },
    {
      "cell_type": "code",
      "source": [
        "# choose our conditions\n",
        "cond1=\"Highlyexpresed\" \n",
        "cond2=\"NotAltered\"\n",
        "\n",
        "#creat a deseq dataset object\n",
        "dds= DESeqDataSetFromMatrix( countData = data , colData = pheno, design = ~ Pheno)\n",
        "\n",
        "\n",
        "#run the deseq2 worflow\n",
        "dds.run = DESeq(dds)"
      ],
      "metadata": {
        "id": "SI8xOQy7OVfn"
      },
      "execution_count": null,
      "outputs": []
    },
    {
      "cell_type": "code",
      "source": [
        "#get results\n",
        "res <- results(dds, contrast=c(\"condition\",cond1, cond2))\n",
        "\n",
        "\n",
        "\n",
        "\n",
        "# remove nulls\n",
        "res=as.data.frame(res[complete.cases(res), ])\n"
      ],
      "metadata": {
        "id": "4jHcqgq0OjVL"
      },
      "execution_count": null,
      "outputs": []
    },
    {
      "cell_type": "code",
      "source": [
        "#chose the statstical significant differentaily expressed genes (DEGs)\n",
        "\n",
        "deseq3.deg=res[res$padj < 0.01 & abs(res$log2FoldChange)>2,]\n",
        "\n",
        "resultsNames(dds)\n",
        "#export the Degs into your current folder for further analysthis\n",
        "\n",
        "write.csv(as.matrix(deseq3.deg),file=\"deseq33.deg.csv\", quote=F,row.names = T)\n"
      ],
      "metadata": {
        "id": "XqD5EMrMOwOn"
      },
      "execution_count": null,
      "outputs": []
    }
  ]
}
